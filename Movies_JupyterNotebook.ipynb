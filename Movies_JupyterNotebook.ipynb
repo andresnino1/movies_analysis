{
 "cells": [
  {
   "cell_type": "code",
   "execution_count": 1,
   "metadata": {},
   "outputs": [],
   "source": [
    "import pandas as pd"
   ]
  },
  {
   "cell_type": "code",
   "execution_count": 2,
   "metadata": {},
   "outputs": [],
   "source": [
    "movies=pd.read_csv(\"movies.csv\", index_col=\"movieid\")"
   ]
  },
  {
   "cell_type": "markdown",
   "metadata": {},
   "source": [
    "# Display the number of rows and columns of the data-frame"
   ]
  },
  {
   "cell_type": "code",
   "execution_count": 3,
   "metadata": {
    "scrolled": true
   },
   "outputs": [
    {
     "data": {
      "text/plain": [
       "(3832, 2)"
      ]
     },
     "execution_count": 3,
     "metadata": {},
     "output_type": "execute_result"
    }
   ],
   "source": [
    "movies.shape"
   ]
  },
  {
   "cell_type": "code",
   "execution_count": 4,
   "metadata": {},
   "outputs": [
    {
     "name": "stdout",
     "output_type": "stream",
     "text": [
      "<class 'pandas.core.frame.DataFrame'>\n",
      "Int64Index: 3832 entries, 1672052 to 2593313\n",
      "Data columns (total 2 columns):\n",
      "title    3832 non-null object\n",
      "year     3832 non-null int64\n",
      "dtypes: int64(1), object(1)\n",
      "memory usage: 89.8+ KB\n"
     ]
    }
   ],
   "source": [
    "movies.info()"
   ]
  },
  {
   "cell_type": "code",
   "execution_count": 5,
   "metadata": {},
   "outputs": [
    {
     "data": {
      "text/html": [
       "<div>\n",
       "<style scoped>\n",
       "    .dataframe tbody tr th:only-of-type {\n",
       "        vertical-align: middle;\n",
       "    }\n",
       "\n",
       "    .dataframe tbody tr th {\n",
       "        vertical-align: top;\n",
       "    }\n",
       "\n",
       "    .dataframe thead th {\n",
       "        text-align: right;\n",
       "    }\n",
       "</style>\n",
       "<table border=\"1\" class=\"dataframe\">\n",
       "  <thead>\n",
       "    <tr style=\"text-align: right;\">\n",
       "      <th></th>\n",
       "      <th>title</th>\n",
       "      <th>year</th>\n",
       "    </tr>\n",
       "    <tr>\n",
       "      <th>movieid</th>\n",
       "      <th></th>\n",
       "      <th></th>\n",
       "    </tr>\n",
       "  </thead>\n",
       "  <tbody>\n",
       "    <tr>\n",
       "      <td>1672052</td>\n",
       "      <td>'Breaker' Morant (1980)</td>\n",
       "      <td>1980</td>\n",
       "    </tr>\n",
       "    <tr>\n",
       "      <td>1672111</td>\n",
       "      <td>'Crocodile' Dundee II (1988)</td>\n",
       "      <td>1988</td>\n",
       "    </tr>\n",
       "    <tr>\n",
       "      <td>1672580</td>\n",
       "      <td>'Til There Was You (1997)</td>\n",
       "      <td>1997</td>\n",
       "    </tr>\n",
       "    <tr>\n",
       "      <td>1672716</td>\n",
       "      <td>'night, Mother (1986)</td>\n",
       "      <td>1986</td>\n",
       "    </tr>\n",
       "    <tr>\n",
       "      <td>1672946</td>\n",
       "      <td>...And Justice for All (2014)</td>\n",
       "      <td>2014</td>\n",
       "    </tr>\n",
       "    <tr>\n",
       "      <td>...</td>\n",
       "      <td>...</td>\n",
       "      <td>...</td>\n",
       "    </tr>\n",
       "    <tr>\n",
       "      <td>2591814</td>\n",
       "      <td>eXistenZ (1999)</td>\n",
       "      <td>1999</td>\n",
       "    </tr>\n",
       "    <tr>\n",
       "      <td>2592334</td>\n",
       "      <td>¡Three Amigos! (1986)</td>\n",
       "      <td>1986</td>\n",
       "    </tr>\n",
       "    <tr>\n",
       "      <td>2592963</td>\n",
       "      <td>À nous la liberté (1931)</td>\n",
       "      <td>1931</td>\n",
       "    </tr>\n",
       "    <tr>\n",
       "      <td>2593112</td>\n",
       "      <td>Á köldum klaka (1995)</td>\n",
       "      <td>1995</td>\n",
       "    </tr>\n",
       "    <tr>\n",
       "      <td>2593313</td>\n",
       "      <td>Átame! (1990)</td>\n",
       "      <td>1990</td>\n",
       "    </tr>\n",
       "  </tbody>\n",
       "</table>\n",
       "<p>3832 rows × 2 columns</p>\n",
       "</div>"
      ],
      "text/plain": [
       "                                 title  year\n",
       "movieid                                     \n",
       "1672052        'Breaker' Morant (1980)  1980\n",
       "1672111   'Crocodile' Dundee II (1988)  1988\n",
       "1672580      'Til There Was You (1997)  1997\n",
       "1672716          'night, Mother (1986)  1986\n",
       "1672946  ...And Justice for All (2014)  2014\n",
       "...                                ...   ...\n",
       "2591814                eXistenZ (1999)  1999\n",
       "2592334          ¡Three Amigos! (1986)  1986\n",
       "2592963       À nous la liberté (1931)  1931\n",
       "2593112          Á köldum klaka (1995)  1995\n",
       "2593313                  Átame! (1990)  1990\n",
       "\n",
       "[3832 rows x 2 columns]"
      ]
     },
     "execution_count": 5,
     "metadata": {},
     "output_type": "execute_result"
    }
   ],
   "source": [
    "movies"
   ]
  },
  {
   "cell_type": "markdown",
   "metadata": {},
   "source": [
    "# Display the number of movies per year"
   ]
  },
  {
   "cell_type": "code",
   "execution_count": 6,
   "metadata": {
    "scrolled": true
   },
   "outputs": [
    {
     "data": {
      "text/plain": [
       "1996    332\n",
       "1995    326\n",
       "1998    319\n",
       "1997    311\n",
       "1999    273\n",
       "       ... \n",
       "1909      1\n",
       "1911      1\n",
       "1913      1\n",
       "2001      1\n",
       "1898      1\n",
       "Name: year, Length: 108, dtype: int64"
      ]
     },
     "execution_count": 6,
     "metadata": {},
     "output_type": "execute_result"
    }
   ],
   "source": [
    "movies[\"year\"].value_counts()"
   ]
  },
  {
   "cell_type": "markdown",
   "metadata": {},
   "source": [
    "# Display number of movies released per year"
   ]
  },
  {
   "cell_type": "code",
   "execution_count": 7,
   "metadata": {},
   "outputs": [
    {
     "data": {
      "text/plain": [
       "69"
      ]
     },
     "execution_count": 7,
     "metadata": {},
     "output_type": "execute_result"
    }
   ],
   "source": [
    "#Display number of movies released in 1990\n",
    "movies_1990=movies[movies[\"year\"]==1990]\n",
    "movies_1990.shape[0]"
   ]
  },
  {
   "cell_type": "code",
   "execution_count": 8,
   "metadata": {},
   "outputs": [
    {
     "data": {
      "text/plain": [
       "65"
      ]
     },
     "execution_count": 8,
     "metadata": {},
     "output_type": "execute_result"
    }
   ],
   "source": [
    "#Display number of movies released in 1991\n",
    "movies_1991=movies[movies[\"year\"]==1991]\n",
    "movies_1991.shape[0]"
   ]
  },
  {
   "cell_type": "code",
   "execution_count": 9,
   "metadata": {},
   "outputs": [
    {
     "data": {
      "text/plain": [
       "96"
      ]
     },
     "execution_count": 9,
     "metadata": {},
     "output_type": "execute_result"
    }
   ],
   "source": [
    "# Display number of movies released in 1992\n",
    "movies_1992=movies[movies[\"year\"]==1992]\n",
    "movies_1992.shape[0]"
   ]
  },
  {
   "cell_type": "code",
   "execution_count": 10,
   "metadata": {},
   "outputs": [
    {
     "data": {
      "text/plain": [
       "153"
      ]
     },
     "execution_count": 10,
     "metadata": {},
     "output_type": "execute_result"
    }
   ],
   "source": [
    "# Display number of movies released in 1993\n",
    "\n",
    "movies_1993=movies[movies[\"year\"]==1993]\n",
    "movies_1993.shape[0]"
   ]
  },
  {
   "cell_type": "code",
   "execution_count": 11,
   "metadata": {},
   "outputs": [
    {
     "data": {
      "text/plain": [
       "240"
      ]
     },
     "execution_count": 11,
     "metadata": {},
     "output_type": "execute_result"
    }
   ],
   "source": [
    "# Display number of movies released in 1994\n",
    "\n",
    "movies_1994=movies[movies[\"year\"]==1994]\n",
    "movies_1994.shape[0]"
   ]
  },
  {
   "cell_type": "code",
   "execution_count": 12,
   "metadata": {},
   "outputs": [
    {
     "data": {
      "text/plain": [
       "326"
      ]
     },
     "execution_count": 12,
     "metadata": {},
     "output_type": "execute_result"
    }
   ],
   "source": [
    "# Display number of movies released in 1995\n",
    "\n",
    "movies_1995=movies[movies[\"year\"]==1995]\n",
    "movies_1995.shape[0]"
   ]
  },
  {
   "cell_type": "code",
   "execution_count": 13,
   "metadata": {},
   "outputs": [
    {
     "data": {
      "text/plain": [
       "332"
      ]
     },
     "execution_count": 13,
     "metadata": {},
     "output_type": "execute_result"
    }
   ],
   "source": [
    "# Display number of movies released in 1996\n",
    "\n",
    "movies_1996=movies[movies[\"year\"]==1996]\n",
    "movies_1996.shape[0]"
   ]
  },
  {
   "cell_type": "code",
   "execution_count": 14,
   "metadata": {},
   "outputs": [
    {
     "data": {
      "text/plain": [
       "311"
      ]
     },
     "execution_count": 14,
     "metadata": {},
     "output_type": "execute_result"
    }
   ],
   "source": [
    "# Display number of movies released in 1997\n",
    "\n",
    "movies_1997=movies[movies[\"year\"]==1997]\n",
    "movies_1997.shape[0]"
   ]
  },
  {
   "cell_type": "code",
   "execution_count": 15,
   "metadata": {},
   "outputs": [
    {
     "data": {
      "text/plain": [
       "319"
      ]
     },
     "execution_count": 15,
     "metadata": {},
     "output_type": "execute_result"
    }
   ],
   "source": [
    "# Display number of movies released in 1998\n",
    "\n",
    "movies_1998=movies[movies[\"year\"]==1998]\n",
    "movies_1998.shape[0]"
   ]
  },
  {
   "cell_type": "code",
   "execution_count": 16,
   "metadata": {},
   "outputs": [
    {
     "data": {
      "text/plain": [
       "273"
      ]
     },
     "execution_count": 16,
     "metadata": {},
     "output_type": "execute_result"
    }
   ],
   "source": [
    "# Display number of movies released in 1999\n",
    "\n",
    "movies_1999=movies[movies[\"year\"]==1999]\n",
    "movies_1999.shape[0]"
   ]
  },
  {
   "cell_type": "code",
   "execution_count": 17,
   "metadata": {},
   "outputs": [
    {
     "data": {
      "text/plain": [
       "144"
      ]
     },
     "execution_count": 17,
     "metadata": {},
     "output_type": "execute_result"
    }
   ],
   "source": [
    "# Display number of movies released in 2000\n",
    "\n",
    "movies_2000=movies[movies[\"year\"]==2000]\n",
    "movies_2000.shape[0]"
   ]
  },
  {
   "cell_type": "markdown",
   "metadata": {},
   "source": [
    "## AVERAGE TIME OF MOVIES PER YEAR"
   ]
  },
  {
   "cell_type": "code",
   "execution_count": 22,
   "metadata": {},
   "outputs": [],
   "source": [
    "# Average time of movies per year\n",
    "\n",
    "running_times=pd.read_csv(\"runningtimes.csv\", index_col=\"movieid\")"
   ]
  },
  {
   "cell_type": "code",
   "execution_count": 23,
   "metadata": {},
   "outputs": [
    {
     "data": {
      "text/html": [
       "<div>\n",
       "<style scoped>\n",
       "    .dataframe tbody tr th:only-of-type {\n",
       "        vertical-align: middle;\n",
       "    }\n",
       "\n",
       "    .dataframe tbody tr th {\n",
       "        vertical-align: top;\n",
       "    }\n",
       "\n",
       "    .dataframe thead th {\n",
       "        text-align: right;\n",
       "    }\n",
       "</style>\n",
       "<table border=\"1\" class=\"dataframe\">\n",
       "  <thead>\n",
       "    <tr style=\"text-align: right;\">\n",
       "      <th></th>\n",
       "      <th>time</th>\n",
       "      <th>addition</th>\n",
       "      <th>time1</th>\n",
       "    </tr>\n",
       "    <tr>\n",
       "      <th>movieid</th>\n",
       "      <th></th>\n",
       "      <th></th>\n",
       "      <th></th>\n",
       "    </tr>\n",
       "  </thead>\n",
       "  <tbody>\n",
       "    <tr>\n",
       "      <td>1672052</td>\n",
       "      <td>107</td>\n",
       "      <td>NaN</td>\n",
       "      <td>107</td>\n",
       "    </tr>\n",
       "    <tr>\n",
       "      <td>1672111</td>\n",
       "      <td>108</td>\n",
       "      <td>NaN</td>\n",
       "      <td>108</td>\n",
       "    </tr>\n",
       "    <tr>\n",
       "      <td>1672580</td>\n",
       "      <td>113</td>\n",
       "      <td>NaN</td>\n",
       "      <td>113</td>\n",
       "    </tr>\n",
       "    <tr>\n",
       "      <td>1672716</td>\n",
       "      <td>96</td>\n",
       "      <td>NaN</td>\n",
       "      <td>96</td>\n",
       "    </tr>\n",
       "    <tr>\n",
       "      <td>1673647</td>\n",
       "      <td>140</td>\n",
       "      <td>NaN</td>\n",
       "      <td>140</td>\n",
       "    </tr>\n",
       "    <tr>\n",
       "      <td>...</td>\n",
       "      <td>...</td>\n",
       "      <td>...</td>\n",
       "      <td>...</td>\n",
       "    </tr>\n",
       "    <tr>\n",
       "      <td>2592963</td>\n",
       "      <td>USA:83</td>\n",
       "      <td>(re-release)</td>\n",
       "      <td>83</td>\n",
       "    </tr>\n",
       "    <tr>\n",
       "      <td>2592963</td>\n",
       "      <td>USA:97</td>\n",
       "      <td>NaN</td>\n",
       "      <td>97</td>\n",
       "    </tr>\n",
       "    <tr>\n",
       "      <td>2593112</td>\n",
       "      <td>Germany:85</td>\n",
       "      <td>NaN</td>\n",
       "      <td>85</td>\n",
       "    </tr>\n",
       "    <tr>\n",
       "      <td>2593112</td>\n",
       "      <td>USA:83</td>\n",
       "      <td>NaN</td>\n",
       "      <td>83</td>\n",
       "    </tr>\n",
       "    <tr>\n",
       "      <td>2593313</td>\n",
       "      <td>111</td>\n",
       "      <td>NaN</td>\n",
       "      <td>111</td>\n",
       "    </tr>\n",
       "  </tbody>\n",
       "</table>\n",
       "<p>5086 rows × 3 columns</p>\n",
       "</div>"
      ],
      "text/plain": [
       "               time      addition  time1\n",
       "movieid                                 \n",
       "1672052         107           NaN    107\n",
       "1672111         108           NaN    108\n",
       "1672580         113           NaN    113\n",
       "1672716          96           NaN     96\n",
       "1673647         140           NaN    140\n",
       "...             ...           ...    ...\n",
       "2592963      USA:83  (re-release)     83\n",
       "2592963      USA:97           NaN     97\n",
       "2593112  Germany:85           NaN     85\n",
       "2593112      USA:83           NaN     83\n",
       "2593313         111           NaN    111\n",
       "\n",
       "[5086 rows x 3 columns]"
      ]
     },
     "execution_count": 23,
     "metadata": {},
     "output_type": "execute_result"
    }
   ],
   "source": [
    "running_times"
   ]
  },
  {
   "cell_type": "code",
   "execution_count": 34,
   "metadata": {},
   "outputs": [],
   "source": [
    "#inner join between movies and running times taking movieid as key\n",
    "join_movies_time = pd.merge(movies, running_times, on = \"movieid\")"
   ]
  },
  {
   "cell_type": "code",
   "execution_count": 35,
   "metadata": {},
   "outputs": [
    {
     "data": {
      "text/html": [
       "<div>\n",
       "<style scoped>\n",
       "    .dataframe tbody tr th:only-of-type {\n",
       "        vertical-align: middle;\n",
       "    }\n",
       "\n",
       "    .dataframe tbody tr th {\n",
       "        vertical-align: top;\n",
       "    }\n",
       "\n",
       "    .dataframe thead th {\n",
       "        text-align: right;\n",
       "    }\n",
       "</style>\n",
       "<table border=\"1\" class=\"dataframe\">\n",
       "  <thead>\n",
       "    <tr style=\"text-align: right;\">\n",
       "      <th></th>\n",
       "      <th>title</th>\n",
       "      <th>year</th>\n",
       "      <th>time</th>\n",
       "      <th>addition</th>\n",
       "      <th>time1</th>\n",
       "    </tr>\n",
       "    <tr>\n",
       "      <th>movieid</th>\n",
       "      <th></th>\n",
       "      <th></th>\n",
       "      <th></th>\n",
       "      <th></th>\n",
       "      <th></th>\n",
       "    </tr>\n",
       "  </thead>\n",
       "  <tbody>\n",
       "    <tr>\n",
       "      <td>1672052</td>\n",
       "      <td>'Breaker' Morant (1980)</td>\n",
       "      <td>1980</td>\n",
       "      <td>107</td>\n",
       "      <td>NaN</td>\n",
       "      <td>107</td>\n",
       "    </tr>\n",
       "    <tr>\n",
       "      <td>1672111</td>\n",
       "      <td>'Crocodile' Dundee II (1988)</td>\n",
       "      <td>1988</td>\n",
       "      <td>108</td>\n",
       "      <td>NaN</td>\n",
       "      <td>108</td>\n",
       "    </tr>\n",
       "    <tr>\n",
       "      <td>1672580</td>\n",
       "      <td>'Til There Was You (1997)</td>\n",
       "      <td>1997</td>\n",
       "      <td>113</td>\n",
       "      <td>NaN</td>\n",
       "      <td>113</td>\n",
       "    </tr>\n",
       "    <tr>\n",
       "      <td>1672716</td>\n",
       "      <td>'night, Mother (1986)</td>\n",
       "      <td>1986</td>\n",
       "      <td>96</td>\n",
       "      <td>NaN</td>\n",
       "      <td>96</td>\n",
       "    </tr>\n",
       "    <tr>\n",
       "      <td>1673647</td>\n",
       "      <td>1-2-3-4 ou Les collants noirs (1961)</td>\n",
       "      <td>1961</td>\n",
       "      <td>140</td>\n",
       "      <td>NaN</td>\n",
       "      <td>140</td>\n",
       "    </tr>\n",
       "    <tr>\n",
       "      <td>...</td>\n",
       "      <td>...</td>\n",
       "      <td>...</td>\n",
       "      <td>...</td>\n",
       "      <td>...</td>\n",
       "      <td>...</td>\n",
       "    </tr>\n",
       "    <tr>\n",
       "      <td>2592963</td>\n",
       "      <td>À nous la liberté (1931)</td>\n",
       "      <td>1931</td>\n",
       "      <td>USA:83</td>\n",
       "      <td>(re-release)</td>\n",
       "      <td>83</td>\n",
       "    </tr>\n",
       "    <tr>\n",
       "      <td>2592963</td>\n",
       "      <td>À nous la liberté (1931)</td>\n",
       "      <td>1931</td>\n",
       "      <td>USA:97</td>\n",
       "      <td>NaN</td>\n",
       "      <td>97</td>\n",
       "    </tr>\n",
       "    <tr>\n",
       "      <td>2593112</td>\n",
       "      <td>Á köldum klaka (1995)</td>\n",
       "      <td>1995</td>\n",
       "      <td>Germany:85</td>\n",
       "      <td>NaN</td>\n",
       "      <td>85</td>\n",
       "    </tr>\n",
       "    <tr>\n",
       "      <td>2593112</td>\n",
       "      <td>Á köldum klaka (1995)</td>\n",
       "      <td>1995</td>\n",
       "      <td>USA:83</td>\n",
       "      <td>NaN</td>\n",
       "      <td>83</td>\n",
       "    </tr>\n",
       "    <tr>\n",
       "      <td>2593313</td>\n",
       "      <td>Átame! (1990)</td>\n",
       "      <td>1990</td>\n",
       "      <td>111</td>\n",
       "      <td>NaN</td>\n",
       "      <td>111</td>\n",
       "    </tr>\n",
       "  </tbody>\n",
       "</table>\n",
       "<p>5086 rows × 5 columns</p>\n",
       "</div>"
      ],
      "text/plain": [
       "                                        title  year        time      addition  \\\n",
       "movieid                                                                         \n",
       "1672052               'Breaker' Morant (1980)  1980         107           NaN   \n",
       "1672111          'Crocodile' Dundee II (1988)  1988         108           NaN   \n",
       "1672580             'Til There Was You (1997)  1997         113           NaN   \n",
       "1672716                 'night, Mother (1986)  1986          96           NaN   \n",
       "1673647  1-2-3-4 ou Les collants noirs (1961)  1961         140           NaN   \n",
       "...                                       ...   ...         ...           ...   \n",
       "2592963              À nous la liberté (1931)  1931      USA:83  (re-release)   \n",
       "2592963              À nous la liberté (1931)  1931      USA:97           NaN   \n",
       "2593112                 Á köldum klaka (1995)  1995  Germany:85           NaN   \n",
       "2593112                 Á köldum klaka (1995)  1995      USA:83           NaN   \n",
       "2593313                         Átame! (1990)  1990         111           NaN   \n",
       "\n",
       "         time1  \n",
       "movieid         \n",
       "1672052    107  \n",
       "1672111    108  \n",
       "1672580    113  \n",
       "1672716     96  \n",
       "1673647    140  \n",
       "...        ...  \n",
       "2592963     83  \n",
       "2592963     97  \n",
       "2593112     85  \n",
       "2593112     83  \n",
       "2593313    111  \n",
       "\n",
       "[5086 rows x 5 columns]"
      ]
     },
     "execution_count": 35,
     "metadata": {},
     "output_type": "execute_result"
    }
   ],
   "source": [
    "join_movies_time"
   ]
  },
  {
   "cell_type": "code",
   "execution_count": 72,
   "metadata": {},
   "outputs": [],
   "source": [
    "#Average time of movies on 1990\n",
    "#this code selecs movies of 1990 from the join between movies running time and movies\n",
    "\n",
    "movies_time_1990 = join_movies_time[join_movies_time[\"year\"]==1990]\n",
    "\n",
    "#find the average of the column time1\n",
    "avg_movies_time_1990= movies_time_1990[\"time1\"].mean()"
   ]
  },
  {
   "cell_type": "code",
   "execution_count": 73,
   "metadata": {},
   "outputs": [
    {
     "data": {
      "text/plain": [
       "111.08602150537635"
      ]
     },
     "execution_count": 73,
     "metadata": {},
     "output_type": "execute_result"
    }
   ],
   "source": [
    "avg_movies_time_1990"
   ]
  },
  {
   "cell_type": "code",
   "execution_count": 44,
   "metadata": {
    "scrolled": true
   },
   "outputs": [],
   "source": [
    "#Average time of movies on 1991\n",
    "#this code selecs movies of 1991 from the join between movies running time and movies\n",
    "\n",
    "movies_time_1991 = join_movies_time[join_movies_time[\"year\"]==1991]\n",
    "\n",
    "#find the average of the column time1\n",
    "avg_movies_time_1991= movies_time_1991[\"time1\"].mean()"
   ]
  },
  {
   "cell_type": "code",
   "execution_count": 45,
   "metadata": {},
   "outputs": [
    {
     "data": {
      "text/plain": [
       "115.0"
      ]
     },
     "execution_count": 45,
     "metadata": {},
     "output_type": "execute_result"
    }
   ],
   "source": [
    "avg_movies_time_1991"
   ]
  },
  {
   "cell_type": "code",
   "execution_count": 46,
   "metadata": {},
   "outputs": [],
   "source": [
    "#Average time of movies on 1992\n",
    "#this code selecs movies of 1992 from the join between movies running time and movies\n",
    "\n",
    "movies_time_1992 = join_movies_time[join_movies_time[\"year\"]==1992]\n",
    "\n",
    "#find the average of the column time1\n",
    "avg_movies_time_1992= movies_time_1992[\"time1\"].mean()"
   ]
  },
  {
   "cell_type": "code",
   "execution_count": 47,
   "metadata": {},
   "outputs": [
    {
     "data": {
      "text/plain": [
       "107.51079136690647"
      ]
     },
     "execution_count": 47,
     "metadata": {},
     "output_type": "execute_result"
    }
   ],
   "source": [
    "avg_movies_time_1992"
   ]
  },
  {
   "cell_type": "code",
   "execution_count": 48,
   "metadata": {},
   "outputs": [],
   "source": [
    "#Average time of movies on 1993\n",
    "#this code selecs movies of 1993 from the join between movies running time and movies\n",
    "\n",
    "movies_time_1993 = join_movies_time[join_movies_time[\"year\"]==1993]\n",
    "\n",
    "#find the average of the column time1\n",
    "avg_movies_time_1993= movies_time_1993[\"time1\"].mean()"
   ]
  },
  {
   "cell_type": "code",
   "execution_count": 49,
   "metadata": {},
   "outputs": [
    {
     "data": {
      "text/plain": [
       "113.46859903381643"
      ]
     },
     "execution_count": 49,
     "metadata": {},
     "output_type": "execute_result"
    }
   ],
   "source": [
    "avg_movies_time_1993"
   ]
  },
  {
   "cell_type": "code",
   "execution_count": 51,
   "metadata": {},
   "outputs": [],
   "source": [
    "#Average time of movies on 1994\n",
    "#this code selecs movies of 1994 from the join between movies running time and movies\n",
    "\n",
    "movies_time_1994 = join_movies_time[join_movies_time[\"year\"]==1994]\n",
    "\n",
    "#find the average of the column time1\n",
    "avg_movies_time_1994= movies_time_1994[\"time1\"].mean()"
   ]
  },
  {
   "cell_type": "code",
   "execution_count": 52,
   "metadata": {},
   "outputs": [
    {
     "data": {
      "text/plain": [
       "105.53939393939395"
      ]
     },
     "execution_count": 52,
     "metadata": {},
     "output_type": "execute_result"
    }
   ],
   "source": [
    "avg_movies_time_1994"
   ]
  },
  {
   "cell_type": "code",
   "execution_count": 53,
   "metadata": {},
   "outputs": [],
   "source": [
    "#Average time of movies on 1995\n",
    "#this code selecs movies of 1994 from the join between movies running time and movies\n",
    "\n",
    "movies_time_1995 = join_movies_time[join_movies_time[\"year\"]==1995]\n",
    "\n",
    "#find the average of the column time1\n",
    "avg_movies_time_1995= movies_time_1995[\"time1\"].mean()"
   ]
  },
  {
   "cell_type": "code",
   "execution_count": 54,
   "metadata": {},
   "outputs": [
    {
     "data": {
      "text/plain": [
       "104.02905569007264"
      ]
     },
     "execution_count": 54,
     "metadata": {},
     "output_type": "execute_result"
    }
   ],
   "source": [
    "avg_movies_time_1995"
   ]
  },
  {
   "cell_type": "code",
   "execution_count": 67,
   "metadata": {},
   "outputs": [],
   "source": [
    "#Average time of movies on 1996\n",
    "#this code selecs movies of 1996 from the join between movies running time and movies\n",
    "\n",
    "movies_time_1996 = join_movies_time[join_movies_time[\"year\"]==1996]\n",
    "\n",
    "#find the average of the column time1\n",
    "avg_movies_time_1996= movies_time_1996[\"time1\"].mean()"
   ]
  },
  {
   "cell_type": "code",
   "execution_count": 56,
   "metadata": {},
   "outputs": [
    {
     "data": {
      "text/plain": [
       "103.30424528301887"
      ]
     },
     "execution_count": 56,
     "metadata": {},
     "output_type": "execute_result"
    }
   ],
   "source": [
    "avg_movies_time_1996"
   ]
  },
  {
   "cell_type": "code",
   "execution_count": 57,
   "metadata": {},
   "outputs": [],
   "source": [
    "#Average time of movies on 1997\n",
    "#this code selecs movies of 1997 from the join between movies running time and movies\n",
    "\n",
    "movies_time_1997 = join_movies_time[join_movies_time[\"year\"]==1997]\n",
    "\n",
    "#find the average of the column time1\n",
    "avg_movies_time_1997= movies_time_1997[\"time1\"].mean()"
   ]
  },
  {
   "cell_type": "code",
   "execution_count": 58,
   "metadata": {},
   "outputs": [
    {
     "data": {
      "text/plain": [
       "103.47184986595174"
      ]
     },
     "execution_count": 58,
     "metadata": {},
     "output_type": "execute_result"
    }
   ],
   "source": [
    "avg_movies_time_1997"
   ]
  },
  {
   "cell_type": "code",
   "execution_count": 60,
   "metadata": {},
   "outputs": [],
   "source": [
    "#Average time of movies on 1998\n",
    "#this code selecs movies of 1998 from the join between movies running time and movies\n",
    "\n",
    "movies_time_1998 = join_movies_time[join_movies_time[\"year\"]==1998]\n",
    "\n",
    "#find the average of the column time1\n",
    "avg_movies_time_1998= movies_time_1998[\"time1\"].mean()"
   ]
  },
  {
   "cell_type": "code",
   "execution_count": 61,
   "metadata": {},
   "outputs": [
    {
     "data": {
      "text/plain": [
       "103.11084337349398"
      ]
     },
     "execution_count": 61,
     "metadata": {},
     "output_type": "execute_result"
    }
   ],
   "source": [
    "avg_movies_time_1998"
   ]
  },
  {
   "cell_type": "code",
   "execution_count": 62,
   "metadata": {},
   "outputs": [],
   "source": [
    "#Average time of movies on 1999\n",
    "#this code selecs movies of 1999 from the join between movies running time and movies\n",
    "\n",
    "movies_time_1999 = join_movies_time[join_movies_time[\"year\"]==1999]\n",
    "\n",
    "#find the average of the column time1\n",
    "avg_movies_time_1999= movies_time_1999[\"time1\"].mean()"
   ]
  },
  {
   "cell_type": "code",
   "execution_count": 63,
   "metadata": {},
   "outputs": [
    {
     "data": {
      "text/plain": [
       "105.57492354740062"
      ]
     },
     "execution_count": 63,
     "metadata": {},
     "output_type": "execute_result"
    }
   ],
   "source": [
    "avg_movies_time_1999"
   ]
  },
  {
   "cell_type": "code",
   "execution_count": 64,
   "metadata": {},
   "outputs": [],
   "source": [
    "#Average time of movies on 2000\n",
    "#this code selecs movies of 2000 from the join between movies running time and movies\n",
    "\n",
    "movies_time_2000 = join_movies_time[join_movies_time[\"year\"]==2000]\n",
    "\n",
    "#find the average of the column time1\n",
    "avg_movies_time_2000= movies_time_2000[\"time1\"].mean()"
   ]
  },
  {
   "cell_type": "code",
   "execution_count": 65,
   "metadata": {},
   "outputs": [
    {
     "data": {
      "text/plain": [
       "104.65217391304348"
      ]
     },
     "execution_count": 65,
     "metadata": {},
     "output_type": "execute_result"
    }
   ],
   "source": [
    "avg_movies_time_2000"
   ]
  },
  {
   "cell_type": "markdown",
   "metadata": {},
   "source": [
    "## AVERAGE RATINGS PER YEAR"
   ]
  },
  {
   "cell_type": "code",
   "execution_count": 68,
   "metadata": {},
   "outputs": [],
   "source": [
    "# Importing ratings table\n",
    "\n",
    "ratings=pd.read_csv(\"ratings.csv\", index_col=\"movieid\")"
   ]
  },
  {
   "cell_type": "code",
   "execution_count": 69,
   "metadata": {},
   "outputs": [
    {
     "data": {
      "text/html": [
       "<div>\n",
       "<style scoped>\n",
       "    .dataframe tbody tr th:only-of-type {\n",
       "        vertical-align: middle;\n",
       "    }\n",
       "\n",
       "    .dataframe tbody tr th {\n",
       "        vertical-align: top;\n",
       "    }\n",
       "\n",
       "    .dataframe thead th {\n",
       "        text-align: right;\n",
       "    }\n",
       "</style>\n",
       "<table border=\"1\" class=\"dataframe\">\n",
       "  <thead>\n",
       "    <tr style=\"text-align: right;\">\n",
       "      <th></th>\n",
       "      <th>rank</th>\n",
       "      <th>votes</th>\n",
       "      <th>distribution</th>\n",
       "    </tr>\n",
       "    <tr>\n",
       "      <th>movieid</th>\n",
       "      <th></th>\n",
       "      <th></th>\n",
       "      <th></th>\n",
       "    </tr>\n",
       "  </thead>\n",
       "  <tbody>\n",
       "    <tr>\n",
       "      <td>1672052</td>\n",
       "      <td>7.8</td>\n",
       "      <td>8111</td>\n",
       "      <td>0000001222</td>\n",
       "    </tr>\n",
       "    <tr>\n",
       "      <td>1672111</td>\n",
       "      <td>5.3</td>\n",
       "      <td>32183</td>\n",
       "      <td>0001221000</td>\n",
       "    </tr>\n",
       "    <tr>\n",
       "      <td>1672580</td>\n",
       "      <td>4.4</td>\n",
       "      <td>1894</td>\n",
       "      <td>0011110000</td>\n",
       "    </tr>\n",
       "    <tr>\n",
       "      <td>1672716</td>\n",
       "      <td>7.0</td>\n",
       "      <td>1255</td>\n",
       "      <td>0000001212</td>\n",
       "    </tr>\n",
       "    <tr>\n",
       "      <td>1673647</td>\n",
       "      <td>6.5</td>\n",
       "      <td>128</td>\n",
       "      <td>0000111211</td>\n",
       "    </tr>\n",
       "    <tr>\n",
       "      <td>...</td>\n",
       "      <td>...</td>\n",
       "      <td>...</td>\n",
       "      <td>...</td>\n",
       "    </tr>\n",
       "    <tr>\n",
       "      <td>2591814</td>\n",
       "      <td>6.8</td>\n",
       "      <td>56563</td>\n",
       "      <td>0000012210</td>\n",
       "    </tr>\n",
       "    <tr>\n",
       "      <td>2592334</td>\n",
       "      <td>6.2</td>\n",
       "      <td>36951</td>\n",
       "      <td>0000122100</td>\n",
       "    </tr>\n",
       "    <tr>\n",
       "      <td>2592963</td>\n",
       "      <td>7.6</td>\n",
       "      <td>2294</td>\n",
       "      <td>0000002311</td>\n",
       "    </tr>\n",
       "    <tr>\n",
       "      <td>2593112</td>\n",
       "      <td>6.9</td>\n",
       "      <td>1231</td>\n",
       "      <td>0000012211</td>\n",
       "    </tr>\n",
       "    <tr>\n",
       "      <td>2593313</td>\n",
       "      <td>6.9</td>\n",
       "      <td>12087</td>\n",
       "      <td>0000013210</td>\n",
       "    </tr>\n",
       "  </tbody>\n",
       "</table>\n",
       "<p>3773 rows × 3 columns</p>\n",
       "</div>"
      ],
      "text/plain": [
       "         rank  votes distribution\n",
       "movieid                          \n",
       "1672052   7.8   8111   0000001222\n",
       "1672111   5.3  32183   0001221000\n",
       "1672580   4.4   1894   0011110000\n",
       "1672716   7.0   1255   0000001212\n",
       "1673647   6.5    128   0000111211\n",
       "...       ...    ...          ...\n",
       "2591814   6.8  56563   0000012210\n",
       "2592334   6.2  36951   0000122100\n",
       "2592963   7.6   2294   0000002311\n",
       "2593112   6.9   1231   0000012211\n",
       "2593313   6.9  12087   0000013210\n",
       "\n",
       "[3773 rows x 3 columns]"
      ]
     },
     "execution_count": 69,
     "metadata": {},
     "output_type": "execute_result"
    }
   ],
   "source": [
    "ratings"
   ]
  },
  {
   "cell_type": "code",
   "execution_count": 70,
   "metadata": {},
   "outputs": [],
   "source": [
    "#inner join between movies and running times taking movieid as key\n",
    "join_movies_ratings = pd.merge(movies, ratings, on = \"movieid\")"
   ]
  },
  {
   "cell_type": "code",
   "execution_count": 71,
   "metadata": {},
   "outputs": [
    {
     "data": {
      "text/html": [
       "<div>\n",
       "<style scoped>\n",
       "    .dataframe tbody tr th:only-of-type {\n",
       "        vertical-align: middle;\n",
       "    }\n",
       "\n",
       "    .dataframe tbody tr th {\n",
       "        vertical-align: top;\n",
       "    }\n",
       "\n",
       "    .dataframe thead th {\n",
       "        text-align: right;\n",
       "    }\n",
       "</style>\n",
       "<table border=\"1\" class=\"dataframe\">\n",
       "  <thead>\n",
       "    <tr style=\"text-align: right;\">\n",
       "      <th></th>\n",
       "      <th>title</th>\n",
       "      <th>year</th>\n",
       "      <th>rank</th>\n",
       "      <th>votes</th>\n",
       "      <th>distribution</th>\n",
       "    </tr>\n",
       "    <tr>\n",
       "      <th>movieid</th>\n",
       "      <th></th>\n",
       "      <th></th>\n",
       "      <th></th>\n",
       "      <th></th>\n",
       "      <th></th>\n",
       "    </tr>\n",
       "  </thead>\n",
       "  <tbody>\n",
       "    <tr>\n",
       "      <td>1672052</td>\n",
       "      <td>'Breaker' Morant (1980)</td>\n",
       "      <td>1980</td>\n",
       "      <td>7.8</td>\n",
       "      <td>8111</td>\n",
       "      <td>0000001222</td>\n",
       "    </tr>\n",
       "    <tr>\n",
       "      <td>1672111</td>\n",
       "      <td>'Crocodile' Dundee II (1988)</td>\n",
       "      <td>1988</td>\n",
       "      <td>5.3</td>\n",
       "      <td>32183</td>\n",
       "      <td>0001221000</td>\n",
       "    </tr>\n",
       "    <tr>\n",
       "      <td>1672580</td>\n",
       "      <td>'Til There Was You (1997)</td>\n",
       "      <td>1997</td>\n",
       "      <td>4.4</td>\n",
       "      <td>1894</td>\n",
       "      <td>0011110000</td>\n",
       "    </tr>\n",
       "    <tr>\n",
       "      <td>1672716</td>\n",
       "      <td>'night, Mother (1986)</td>\n",
       "      <td>1986</td>\n",
       "      <td>7.0</td>\n",
       "      <td>1255</td>\n",
       "      <td>0000001212</td>\n",
       "    </tr>\n",
       "    <tr>\n",
       "      <td>1673647</td>\n",
       "      <td>1-2-3-4 ou Les collants noirs (1961)</td>\n",
       "      <td>1961</td>\n",
       "      <td>6.5</td>\n",
       "      <td>128</td>\n",
       "      <td>0000111211</td>\n",
       "    </tr>\n",
       "    <tr>\n",
       "      <td>...</td>\n",
       "      <td>...</td>\n",
       "      <td>...</td>\n",
       "      <td>...</td>\n",
       "      <td>...</td>\n",
       "      <td>...</td>\n",
       "    </tr>\n",
       "    <tr>\n",
       "      <td>2591814</td>\n",
       "      <td>eXistenZ (1999)</td>\n",
       "      <td>1999</td>\n",
       "      <td>6.8</td>\n",
       "      <td>56563</td>\n",
       "      <td>0000012210</td>\n",
       "    </tr>\n",
       "    <tr>\n",
       "      <td>2592334</td>\n",
       "      <td>¡Three Amigos! (1986)</td>\n",
       "      <td>1986</td>\n",
       "      <td>6.2</td>\n",
       "      <td>36951</td>\n",
       "      <td>0000122100</td>\n",
       "    </tr>\n",
       "    <tr>\n",
       "      <td>2592963</td>\n",
       "      <td>À nous la liberté (1931)</td>\n",
       "      <td>1931</td>\n",
       "      <td>7.6</td>\n",
       "      <td>2294</td>\n",
       "      <td>0000002311</td>\n",
       "    </tr>\n",
       "    <tr>\n",
       "      <td>2593112</td>\n",
       "      <td>Á köldum klaka (1995)</td>\n",
       "      <td>1995</td>\n",
       "      <td>6.9</td>\n",
       "      <td>1231</td>\n",
       "      <td>0000012211</td>\n",
       "    </tr>\n",
       "    <tr>\n",
       "      <td>2593313</td>\n",
       "      <td>Átame! (1990)</td>\n",
       "      <td>1990</td>\n",
       "      <td>6.9</td>\n",
       "      <td>12087</td>\n",
       "      <td>0000013210</td>\n",
       "    </tr>\n",
       "  </tbody>\n",
       "</table>\n",
       "<p>3773 rows × 5 columns</p>\n",
       "</div>"
      ],
      "text/plain": [
       "                                        title  year  rank  votes distribution\n",
       "movieid                                                                      \n",
       "1672052               'Breaker' Morant (1980)  1980   7.8   8111   0000001222\n",
       "1672111          'Crocodile' Dundee II (1988)  1988   5.3  32183   0001221000\n",
       "1672580             'Til There Was You (1997)  1997   4.4   1894   0011110000\n",
       "1672716                 'night, Mother (1986)  1986   7.0   1255   0000001212\n",
       "1673647  1-2-3-4 ou Les collants noirs (1961)  1961   6.5    128   0000111211\n",
       "...                                       ...   ...   ...    ...          ...\n",
       "2591814                       eXistenZ (1999)  1999   6.8  56563   0000012210\n",
       "2592334                 ¡Three Amigos! (1986)  1986   6.2  36951   0000122100\n",
       "2592963              À nous la liberté (1931)  1931   7.6   2294   0000002311\n",
       "2593112                 Á köldum klaka (1995)  1995   6.9   1231   0000012211\n",
       "2593313                         Átame! (1990)  1990   6.9  12087   0000013210\n",
       "\n",
       "[3773 rows x 5 columns]"
      ]
     },
     "execution_count": 71,
     "metadata": {},
     "output_type": "execute_result"
    }
   ],
   "source": [
    "join_movies_ratings"
   ]
  },
  {
   "cell_type": "code",
   "execution_count": 74,
   "metadata": {},
   "outputs": [],
   "source": [
    "#Average ratings of movies on 1990\n",
    "#this code selecs movies of 1990 from the join between ratings and movies\n",
    "\n",
    "ratings_1990 = join_movies_ratings[join_movies_ratings[\"year\"]==1990]\n",
    "\n",
    "#find the average of the column rank\n",
    "avg_movies_ratings_1990= ratings_1990[\"rank\"].mean()"
   ]
  },
  {
   "cell_type": "code",
   "execution_count": 75,
   "metadata": {},
   "outputs": [
    {
     "data": {
      "text/plain": [
       "6.314492753623191"
      ]
     },
     "execution_count": 75,
     "metadata": {},
     "output_type": "execute_result"
    }
   ],
   "source": [
    "avg_movies_ratings_1990"
   ]
  },
  {
   "cell_type": "code",
   "execution_count": 76,
   "metadata": {},
   "outputs": [],
   "source": [
    "#Average ratings of movies on 1991\n",
    "#this code selecs movies of 1991 from the join between ratings and movies\n",
    "\n",
    "ratings_1991 = join_movies_ratings[join_movies_ratings[\"year\"]==1991]\n",
    "\n",
    "#find the average of the column rank\n",
    "avg_movies_ratings_1991= ratings_1991[\"rank\"].mean()"
   ]
  },
  {
   "cell_type": "code",
   "execution_count": 77,
   "metadata": {},
   "outputs": [
    {
     "data": {
      "text/plain": [
       "6.4875"
      ]
     },
     "execution_count": 77,
     "metadata": {},
     "output_type": "execute_result"
    }
   ],
   "source": [
    "avg_movies_ratings_1991"
   ]
  },
  {
   "cell_type": "code",
   "execution_count": 78,
   "metadata": {},
   "outputs": [],
   "source": [
    "#Average ratings of movies on 1992\n",
    "#this code selecs movies of 1992 from the join between ratings and movies\n",
    "\n",
    "ratings_1992 = join_movies_ratings[join_movies_ratings[\"year\"]==1992]\n",
    "\n",
    "#find the average of the column rank\n",
    "avg_movies_ratings_1992= ratings_1992[\"rank\"].mean()"
   ]
  },
  {
   "cell_type": "code",
   "execution_count": 79,
   "metadata": {},
   "outputs": [
    {
     "data": {
      "text/plain": [
       "6.422105263157893"
      ]
     },
     "execution_count": 79,
     "metadata": {},
     "output_type": "execute_result"
    }
   ],
   "source": [
    "avg_movies_ratings_1992"
   ]
  },
  {
   "cell_type": "code",
   "execution_count": 80,
   "metadata": {},
   "outputs": [],
   "source": [
    "#Average ratings of movies on 1993\n",
    "#this code selecs movies of 1993 from the join between ratings and movies\n",
    "\n",
    "ratings_1993 = join_movies_ratings[join_movies_ratings[\"year\"]==1993]\n",
    "\n",
    "#find the average of the column rank\n",
    "avg_movies_ratings_1993= ratings_1993[\"rank\"].mean()"
   ]
  },
  {
   "cell_type": "code",
   "execution_count": 81,
   "metadata": {},
   "outputs": [
    {
     "data": {
      "text/plain": [
       "6.484967320261439"
      ]
     },
     "execution_count": 81,
     "metadata": {},
     "output_type": "execute_result"
    }
   ],
   "source": [
    "avg_movies_ratings_1993"
   ]
  },
  {
   "cell_type": "code",
   "execution_count": 82,
   "metadata": {},
   "outputs": [],
   "source": [
    "#Average ratings of movies on 1994\n",
    "#this code selecs movies of 1994 from the join between ratings and movies\n",
    "\n",
    "ratings_1994 = join_movies_ratings[join_movies_ratings[\"year\"]==1994]\n",
    "\n",
    "#find the average of the column rank\n",
    "avg_movies_ratings_1994= ratings_1994[\"rank\"].mean()"
   ]
  },
  {
   "cell_type": "code",
   "execution_count": 84,
   "metadata": {},
   "outputs": [
    {
     "data": {
      "text/plain": [
       "6.256666666666667"
      ]
     },
     "execution_count": 84,
     "metadata": {},
     "output_type": "execute_result"
    }
   ],
   "source": [
    "avg_movies_ratings_1994"
   ]
  },
  {
   "cell_type": "code",
   "execution_count": 85,
   "metadata": {},
   "outputs": [],
   "source": [
    "#Average ratings of movies on 1995\n",
    "#this code selecs movies of 1995 from the join between ratings and movies\n",
    "\n",
    "ratings_1995 = join_movies_ratings[join_movies_ratings[\"year\"]==1995]\n",
    "\n",
    "#find the average of the column rank\n",
    "avg_movies_ratings_1995= ratings_1995[\"rank\"].mean()"
   ]
  },
  {
   "cell_type": "code",
   "execution_count": 86,
   "metadata": {},
   "outputs": [
    {
     "data": {
      "text/plain": [
       "6.208923076923077"
      ]
     },
     "execution_count": 86,
     "metadata": {},
     "output_type": "execute_result"
    }
   ],
   "source": [
    "avg_movies_ratings_1995"
   ]
  },
  {
   "cell_type": "code",
   "execution_count": 87,
   "metadata": {},
   "outputs": [],
   "source": [
    "#Average ratings of movies on 1996\n",
    "#this code selecs movies of 1996 from the join between ratings and movies\n",
    "\n",
    "ratings_1996 = join_movies_ratings[join_movies_ratings[\"year\"]==1996]\n",
    "\n",
    "#find the average of the column rank\n",
    "avg_movies_ratings_1996= ratings_1996[\"rank\"].mean()"
   ]
  },
  {
   "cell_type": "code",
   "execution_count": 88,
   "metadata": {},
   "outputs": [
    {
     "data": {
      "text/plain": [
       "6.021450151057398"
      ]
     },
     "execution_count": 88,
     "metadata": {},
     "output_type": "execute_result"
    }
   ],
   "source": [
    "avg_movies_ratings_1996"
   ]
  },
  {
   "cell_type": "code",
   "execution_count": 89,
   "metadata": {},
   "outputs": [],
   "source": [
    "#Average ratings of movies on 1997\n",
    "#this code selecs movies of 1997 from the join between ratings and movies\n",
    "\n",
    "ratings_1997 = join_movies_ratings[join_movies_ratings[\"year\"]==1997]\n",
    "\n",
    "#find the average of the column rank\n",
    "avg_movies_ratings_1997= ratings_1997[\"rank\"].mean()"
   ]
  },
  {
   "cell_type": "code",
   "execution_count": 90,
   "metadata": {},
   "outputs": [
    {
     "data": {
      "text/plain": [
       "6.113225806451617"
      ]
     },
     "execution_count": 90,
     "metadata": {},
     "output_type": "execute_result"
    }
   ],
   "source": [
    "avg_movies_ratings_1997"
   ]
  },
  {
   "cell_type": "code",
   "execution_count": 91,
   "metadata": {},
   "outputs": [],
   "source": [
    "#Average ratings of movies on 1998\n",
    "#this code selecs movies of 1998 from the join between ratings and movies\n",
    "\n",
    "ratings_1998 = join_movies_ratings[join_movies_ratings[\"year\"]==1998]\n",
    "\n",
    "#find the average of the column rank\n",
    "avg_movies_ratings_1998= ratings_1998[\"rank\"].mean()"
   ]
  },
  {
   "cell_type": "code",
   "execution_count": 92,
   "metadata": {},
   "outputs": [
    {
     "data": {
      "text/plain": [
       "6.1698113207547145"
      ]
     },
     "execution_count": 92,
     "metadata": {},
     "output_type": "execute_result"
    }
   ],
   "source": [
    "avg_movies_ratings_1998"
   ]
  },
  {
   "cell_type": "code",
   "execution_count": 93,
   "metadata": {},
   "outputs": [],
   "source": [
    "#Average ratings of movies on 1999\n",
    "#this code selecs movies of 1999 from the join between ratings and movies\n",
    "\n",
    "ratings_1999 = join_movies_ratings[join_movies_ratings[\"year\"]==1999]\n",
    "\n",
    "#find the average of the column rank\n",
    "avg_movies_ratings_1999= ratings_1999[\"rank\"].mean()"
   ]
  },
  {
   "cell_type": "code",
   "execution_count": 94,
   "metadata": {},
   "outputs": [
    {
     "data": {
      "text/plain": [
       "6.19926470588235"
      ]
     },
     "execution_count": 94,
     "metadata": {},
     "output_type": "execute_result"
    }
   ],
   "source": [
    "avg_movies_ratings_1999"
   ]
  },
  {
   "cell_type": "code",
   "execution_count": 95,
   "metadata": {},
   "outputs": [],
   "source": [
    "#Average ratings of movies on 2000\n",
    "#this code selecs movies of 2000 from the join between ratings and movies\n",
    "\n",
    "ratings_2000 = join_movies_ratings[join_movies_ratings[\"year\"]==2000]\n",
    "\n",
    "#find the average of the column rank\n",
    "avg_movies_ratings_2000= ratings_2000[\"rank\"].mean()"
   ]
  },
  {
   "cell_type": "code",
   "execution_count": 96,
   "metadata": {},
   "outputs": [
    {
     "data": {
      "text/plain": [
       "5.923611111111109"
      ]
     },
     "execution_count": 96,
     "metadata": {},
     "output_type": "execute_result"
    }
   ],
   "source": [
    "avg_movies_ratings_2000"
   ]
  },
  {
   "cell_type": "markdown",
   "metadata": {},
   "source": [
    "## TOTAL NUMBER OF VOTES PER YEAR"
   ]
  },
  {
   "cell_type": "code",
   "execution_count": 97,
   "metadata": {},
   "outputs": [
    {
     "data": {
      "text/html": [
       "<div>\n",
       "<style scoped>\n",
       "    .dataframe tbody tr th:only-of-type {\n",
       "        vertical-align: middle;\n",
       "    }\n",
       "\n",
       "    .dataframe tbody tr th {\n",
       "        vertical-align: top;\n",
       "    }\n",
       "\n",
       "    .dataframe thead th {\n",
       "        text-align: right;\n",
       "    }\n",
       "</style>\n",
       "<table border=\"1\" class=\"dataframe\">\n",
       "  <thead>\n",
       "    <tr style=\"text-align: right;\">\n",
       "      <th></th>\n",
       "      <th>title</th>\n",
       "      <th>year</th>\n",
       "      <th>rank</th>\n",
       "      <th>votes</th>\n",
       "      <th>distribution</th>\n",
       "    </tr>\n",
       "    <tr>\n",
       "      <th>movieid</th>\n",
       "      <th></th>\n",
       "      <th></th>\n",
       "      <th></th>\n",
       "      <th></th>\n",
       "      <th></th>\n",
       "    </tr>\n",
       "  </thead>\n",
       "  <tbody>\n",
       "    <tr>\n",
       "      <td>1711133</td>\n",
       "      <td>Air America (1990)</td>\n",
       "      <td>1990</td>\n",
       "      <td>5.5</td>\n",
       "      <td>15959</td>\n",
       "      <td>0001221000</td>\n",
       "    </tr>\n",
       "    <tr>\n",
       "      <td>1717144</td>\n",
       "      <td>All the Vermeers in New York (1990)</td>\n",
       "      <td>1990</td>\n",
       "      <td>6.5</td>\n",
       "      <td>321</td>\n",
       "      <td>0000011111</td>\n",
       "    </tr>\n",
       "    <tr>\n",
       "      <td>1721750</td>\n",
       "      <td>American Dream (1990)</td>\n",
       "      <td>1990</td>\n",
       "      <td>7.7</td>\n",
       "      <td>517</td>\n",
       "      <td>0000001222</td>\n",
       "    </tr>\n",
       "    <tr>\n",
       "      <td>1734803</td>\n",
       "      <td>Arachnophobia (1990)</td>\n",
       "      <td>1990</td>\n",
       "      <td>6.3</td>\n",
       "      <td>35357</td>\n",
       "      <td>0000122100</td>\n",
       "    </tr>\n",
       "    <tr>\n",
       "      <td>1739234</td>\n",
       "      <td>Asfour Stah (1990)</td>\n",
       "      <td>1990</td>\n",
       "      <td>6.9</td>\n",
       "      <td>594</td>\n",
       "      <td>0000013200</td>\n",
       "    </tr>\n",
       "    <tr>\n",
       "      <td>...</td>\n",
       "      <td>...</td>\n",
       "      <td>...</td>\n",
       "      <td>...</td>\n",
       "      <td>...</td>\n",
       "      <td>...</td>\n",
       "    </tr>\n",
       "    <tr>\n",
       "      <td>2510683</td>\n",
       "      <td>Total Recall (1990)</td>\n",
       "      <td>1990</td>\n",
       "      <td>7.5</td>\n",
       "      <td>160970</td>\n",
       "      <td>0000012310</td>\n",
       "    </tr>\n",
       "    <tr>\n",
       "      <td>2518736</td>\n",
       "      <td>Trust (1990)</td>\n",
       "      <td>1990</td>\n",
       "      <td>7.5</td>\n",
       "      <td>5129</td>\n",
       "      <td>0000001212</td>\n",
       "    </tr>\n",
       "    <tr>\n",
       "      <td>2581836</td>\n",
       "      <td>Yo, la peor de todas (1990)</td>\n",
       "      <td>1990</td>\n",
       "      <td>6.8</td>\n",
       "      <td>365</td>\n",
       "      <td>0000011211</td>\n",
       "    </tr>\n",
       "    <tr>\n",
       "      <td>2583701</td>\n",
       "      <td>Young Guns II (1990)</td>\n",
       "      <td>1990</td>\n",
       "      <td>6.1</td>\n",
       "      <td>17465</td>\n",
       "      <td>0000122100</td>\n",
       "    </tr>\n",
       "    <tr>\n",
       "      <td>2593313</td>\n",
       "      <td>Átame! (1990)</td>\n",
       "      <td>1990</td>\n",
       "      <td>6.9</td>\n",
       "      <td>12087</td>\n",
       "      <td>0000013210</td>\n",
       "    </tr>\n",
       "  </tbody>\n",
       "</table>\n",
       "<p>69 rows × 5 columns</p>\n",
       "</div>"
      ],
      "text/plain": [
       "                                       title  year  rank   votes distribution\n",
       "movieid                                                                      \n",
       "1711133                   Air America (1990)  1990   5.5   15959   0001221000\n",
       "1717144  All the Vermeers in New York (1990)  1990   6.5     321   0000011111\n",
       "1721750                American Dream (1990)  1990   7.7     517   0000001222\n",
       "1734803                 Arachnophobia (1990)  1990   6.3   35357   0000122100\n",
       "1739234                   Asfour Stah (1990)  1990   6.9     594   0000013200\n",
       "...                                      ...   ...   ...     ...          ...\n",
       "2510683                  Total Recall (1990)  1990   7.5  160970   0000012310\n",
       "2518736                         Trust (1990)  1990   7.5    5129   0000001212\n",
       "2581836          Yo, la peor de todas (1990)  1990   6.8     365   0000011211\n",
       "2583701                 Young Guns II (1990)  1990   6.1   17465   0000122100\n",
       "2593313                        Átame! (1990)  1990   6.9   12087   0000013210\n",
       "\n",
       "[69 rows x 5 columns]"
      ]
     },
     "execution_count": 97,
     "metadata": {},
     "output_type": "execute_result"
    }
   ],
   "source": [
    "ratings_1990"
   ]
  },
  {
   "cell_type": "code",
   "execution_count": 100,
   "metadata": {},
   "outputs": [
    {
     "data": {
      "text/plain": [
       "2987619"
      ]
     },
     "execution_count": 100,
     "metadata": {},
     "output_type": "execute_result"
    }
   ],
   "source": [
    "#sum movies votes of 1990\n",
    "sum_votes_1990=ratings_1990[\"votes\"].sum()\n",
    "sum_votes_1990"
   ]
  },
  {
   "cell_type": "code",
   "execution_count": 101,
   "metadata": {},
   "outputs": [
    {
     "data": {
      "text/plain": [
       "2413574"
      ]
     },
     "execution_count": 101,
     "metadata": {},
     "output_type": "execute_result"
    }
   ],
   "source": [
    "#sum movies votes of 1991\n",
    "sum_votes_1991=ratings_1991[\"votes\"].sum()\n",
    "sum_votes_1991"
   ]
  },
  {
   "cell_type": "code",
   "execution_count": 102,
   "metadata": {},
   "outputs": [
    {
     "data": {
      "text/plain": [
       "3304026"
      ]
     },
     "execution_count": 102,
     "metadata": {},
     "output_type": "execute_result"
    }
   ],
   "source": [
    "#sum movies votes of 1992\n",
    "sum_votes_1992=ratings_1992[\"votes\"].sum()\n",
    "sum_votes_1992"
   ]
  },
  {
   "cell_type": "code",
   "execution_count": 103,
   "metadata": {},
   "outputs": [
    {
     "data": {
      "text/plain": [
       "4505980"
      ]
     },
     "execution_count": 103,
     "metadata": {},
     "output_type": "execute_result"
    }
   ],
   "source": [
    "#sum movies votes of 1993\n",
    "sum_votes_1993=ratings_1993[\"votes\"].sum()\n",
    "sum_votes_1993"
   ]
  },
  {
   "cell_type": "code",
   "execution_count": 104,
   "metadata": {},
   "outputs": [
    {
     "data": {
      "text/plain": [
       "6957173"
      ]
     },
     "execution_count": 104,
     "metadata": {},
     "output_type": "execute_result"
    }
   ],
   "source": [
    "#sum movies votes of 1994\n",
    "sum_votes_1994=ratings_1994[\"votes\"].sum()\n",
    "sum_votes_1994"
   ]
  },
  {
   "cell_type": "code",
   "execution_count": 105,
   "metadata": {},
   "outputs": [
    {
     "data": {
      "text/plain": [
       "7127838"
      ]
     },
     "execution_count": 105,
     "metadata": {},
     "output_type": "execute_result"
    }
   ],
   "source": [
    "#sum movies votes of 1995\n",
    "sum_votes_1995=ratings_1995[\"votes\"].sum()\n",
    "sum_votes_1995"
   ]
  },
  {
   "cell_type": "code",
   "execution_count": 106,
   "metadata": {},
   "outputs": [
    {
     "data": {
      "text/plain": [
       "5723996"
      ]
     },
     "execution_count": 106,
     "metadata": {},
     "output_type": "execute_result"
    }
   ],
   "source": [
    "#sum movies votes of 1996\n",
    "sum_votes_1996=ratings_1996[\"votes\"].sum()\n",
    "sum_votes_1996"
   ]
  },
  {
   "cell_type": "code",
   "execution_count": 107,
   "metadata": {},
   "outputs": [
    {
     "data": {
      "text/plain": [
       "7827569"
      ]
     },
     "execution_count": 107,
     "metadata": {},
     "output_type": "execute_result"
    }
   ],
   "source": [
    "#sum movies votes of 1997\n",
    "sum_votes_1997=ratings_1997[\"votes\"].sum()\n",
    "sum_votes_1997"
   ]
  },
  {
   "cell_type": "code",
   "execution_count": 108,
   "metadata": {},
   "outputs": [
    {
     "data": {
      "text/plain": [
       "8169054"
      ]
     },
     "execution_count": 108,
     "metadata": {},
     "output_type": "execute_result"
    }
   ],
   "source": [
    "#sum movies votes of 1998\n",
    "sum_votes_1998=ratings_1998[\"votes\"].sum()\n",
    "sum_votes_1998"
   ]
  },
  {
   "cell_type": "code",
   "execution_count": 109,
   "metadata": {},
   "outputs": [
    {
     "data": {
      "text/plain": [
       "10451905"
      ]
     },
     "execution_count": 109,
     "metadata": {},
     "output_type": "execute_result"
    }
   ],
   "source": [
    "#sum movies votes of 1999\n",
    "sum_votes_1999=ratings_1999[\"votes\"].sum()\n",
    "sum_votes_1999"
   ]
  },
  {
   "cell_type": "code",
   "execution_count": 110,
   "metadata": {},
   "outputs": [
    {
     "data": {
      "text/plain": [
       "5158504"
      ]
     },
     "execution_count": 110,
     "metadata": {},
     "output_type": "execute_result"
    }
   ],
   "source": [
    "#sum movies votes of 2000\n",
    "sum_votes_2000=ratings_2000[\"votes\"].sum()\n",
    "sum_votes_2000"
   ]
  },
  {
   "cell_type": "markdown",
   "metadata": {},
   "source": [
    "## TOP FIVE RANKED MOVIES"
   ]
  },
  {
   "cell_type": "code",
   "execution_count": 112,
   "metadata": {},
   "outputs": [
    {
     "data": {
      "text/html": [
       "<div>\n",
       "<style scoped>\n",
       "    .dataframe tbody tr th:only-of-type {\n",
       "        vertical-align: middle;\n",
       "    }\n",
       "\n",
       "    .dataframe tbody tr th {\n",
       "        vertical-align: top;\n",
       "    }\n",
       "\n",
       "    .dataframe thead th {\n",
       "        text-align: right;\n",
       "    }\n",
       "</style>\n",
       "<table border=\"1\" class=\"dataframe\">\n",
       "  <thead>\n",
       "    <tr style=\"text-align: right;\">\n",
       "      <th></th>\n",
       "      <th>title</th>\n",
       "      <th>year</th>\n",
       "      <th>rank</th>\n",
       "      <th>votes</th>\n",
       "      <th>distribution</th>\n",
       "    </tr>\n",
       "    <tr>\n",
       "      <th>movieid</th>\n",
       "      <th></th>\n",
       "      <th></th>\n",
       "      <th></th>\n",
       "      <th></th>\n",
       "      <th></th>\n",
       "    </tr>\n",
       "  </thead>\n",
       "  <tbody>\n",
       "    <tr>\n",
       "      <td>1672052</td>\n",
       "      <td>'Breaker' Morant (1980)</td>\n",
       "      <td>1980</td>\n",
       "      <td>7.8</td>\n",
       "      <td>8111</td>\n",
       "      <td>0000001222</td>\n",
       "    </tr>\n",
       "    <tr>\n",
       "      <td>1672111</td>\n",
       "      <td>'Crocodile' Dundee II (1988)</td>\n",
       "      <td>1988</td>\n",
       "      <td>5.3</td>\n",
       "      <td>32183</td>\n",
       "      <td>0001221000</td>\n",
       "    </tr>\n",
       "    <tr>\n",
       "      <td>1672580</td>\n",
       "      <td>'Til There Was You (1997)</td>\n",
       "      <td>1997</td>\n",
       "      <td>4.4</td>\n",
       "      <td>1894</td>\n",
       "      <td>0011110000</td>\n",
       "    </tr>\n",
       "    <tr>\n",
       "      <td>1672716</td>\n",
       "      <td>'night, Mother (1986)</td>\n",
       "      <td>1986</td>\n",
       "      <td>7.0</td>\n",
       "      <td>1255</td>\n",
       "      <td>0000001212</td>\n",
       "    </tr>\n",
       "    <tr>\n",
       "      <td>1673647</td>\n",
       "      <td>1-2-3-4 ou Les collants noirs (1961)</td>\n",
       "      <td>1961</td>\n",
       "      <td>6.5</td>\n",
       "      <td>128</td>\n",
       "      <td>0000111211</td>\n",
       "    </tr>\n",
       "    <tr>\n",
       "      <td>...</td>\n",
       "      <td>...</td>\n",
       "      <td>...</td>\n",
       "      <td>...</td>\n",
       "      <td>...</td>\n",
       "      <td>...</td>\n",
       "    </tr>\n",
       "    <tr>\n",
       "      <td>2591814</td>\n",
       "      <td>eXistenZ (1999)</td>\n",
       "      <td>1999</td>\n",
       "      <td>6.8</td>\n",
       "      <td>56563</td>\n",
       "      <td>0000012210</td>\n",
       "    </tr>\n",
       "    <tr>\n",
       "      <td>2592334</td>\n",
       "      <td>¡Three Amigos! (1986)</td>\n",
       "      <td>1986</td>\n",
       "      <td>6.2</td>\n",
       "      <td>36951</td>\n",
       "      <td>0000122100</td>\n",
       "    </tr>\n",
       "    <tr>\n",
       "      <td>2592963</td>\n",
       "      <td>À nous la liberté (1931)</td>\n",
       "      <td>1931</td>\n",
       "      <td>7.6</td>\n",
       "      <td>2294</td>\n",
       "      <td>0000002311</td>\n",
       "    </tr>\n",
       "    <tr>\n",
       "      <td>2593112</td>\n",
       "      <td>Á köldum klaka (1995)</td>\n",
       "      <td>1995</td>\n",
       "      <td>6.9</td>\n",
       "      <td>1231</td>\n",
       "      <td>0000012211</td>\n",
       "    </tr>\n",
       "    <tr>\n",
       "      <td>2593313</td>\n",
       "      <td>Átame! (1990)</td>\n",
       "      <td>1990</td>\n",
       "      <td>6.9</td>\n",
       "      <td>12087</td>\n",
       "      <td>0000013210</td>\n",
       "    </tr>\n",
       "  </tbody>\n",
       "</table>\n",
       "<p>3773 rows × 5 columns</p>\n",
       "</div>"
      ],
      "text/plain": [
       "                                        title  year  rank  votes distribution\n",
       "movieid                                                                      \n",
       "1672052               'Breaker' Morant (1980)  1980   7.8   8111   0000001222\n",
       "1672111          'Crocodile' Dundee II (1988)  1988   5.3  32183   0001221000\n",
       "1672580             'Til There Was You (1997)  1997   4.4   1894   0011110000\n",
       "1672716                 'night, Mother (1986)  1986   7.0   1255   0000001212\n",
       "1673647  1-2-3-4 ou Les collants noirs (1961)  1961   6.5    128   0000111211\n",
       "...                                       ...   ...   ...    ...          ...\n",
       "2591814                       eXistenZ (1999)  1999   6.8  56563   0000012210\n",
       "2592334                 ¡Three Amigos! (1986)  1986   6.2  36951   0000122100\n",
       "2592963              À nous la liberté (1931)  1931   7.6   2294   0000002311\n",
       "2593112                 Á köldum klaka (1995)  1995   6.9   1231   0000012211\n",
       "2593313                         Átame! (1990)  1990   6.9  12087   0000013210\n",
       "\n",
       "[3773 rows x 5 columns]"
      ]
     },
     "execution_count": 112,
     "metadata": {},
     "output_type": "execute_result"
    }
   ],
   "source": [
    "join_movies_ratings"
   ]
  },
  {
   "cell_type": "code",
   "execution_count": 119,
   "metadata": {},
   "outputs": [
    {
     "data": {
      "text/html": [
       "<div>\n",
       "<style scoped>\n",
       "    .dataframe tbody tr th:only-of-type {\n",
       "        vertical-align: middle;\n",
       "    }\n",
       "\n",
       "    .dataframe tbody tr th {\n",
       "        vertical-align: top;\n",
       "    }\n",
       "\n",
       "    .dataframe thead th {\n",
       "        text-align: right;\n",
       "    }\n",
       "</style>\n",
       "<table border=\"1\" class=\"dataframe\">\n",
       "  <thead>\n",
       "    <tr style=\"text-align: right;\">\n",
       "      <th></th>\n",
       "      <th>title</th>\n",
       "      <th>year</th>\n",
       "      <th>rank</th>\n",
       "      <th>votes</th>\n",
       "      <th>distribution</th>\n",
       "    </tr>\n",
       "    <tr>\n",
       "      <th>movieid</th>\n",
       "      <th></th>\n",
       "      <th></th>\n",
       "      <th></th>\n",
       "      <th></th>\n",
       "      <th></th>\n",
       "    </tr>\n",
       "  </thead>\n",
       "  <tbody>\n",
       "    <tr>\n",
       "      <td>2477653</td>\n",
       "      <td>The Shawshank Redemption (1994)</td>\n",
       "      <td>1994</td>\n",
       "      <td>9.3</td>\n",
       "      <td>998823</td>\n",
       "      <td>0000000125</td>\n",
       "    </tr>\n",
       "    <tr>\n",
       "      <td>2437277</td>\n",
       "      <td>The Godfather (1972)</td>\n",
       "      <td>1972</td>\n",
       "      <td>9.2</td>\n",
       "      <td>706695</td>\n",
       "      <td>0000000125</td>\n",
       "    </tr>\n",
       "    <tr>\n",
       "      <td>2024833</td>\n",
       "      <td>Il buono, il brutto, il cattivo. (1966)</td>\n",
       "      <td>1966</td>\n",
       "      <td>9.0</td>\n",
       "      <td>301575</td>\n",
       "      <td>0000000124</td>\n",
       "    </tr>\n",
       "    <tr>\n",
       "      <td>2280997</td>\n",
       "      <td>Pulp Fiction (1994)</td>\n",
       "      <td>1994</td>\n",
       "      <td>9.0</td>\n",
       "      <td>775943</td>\n",
       "      <td>0000000124</td>\n",
       "    </tr>\n",
       "    <tr>\n",
       "      <td>2437299</td>\n",
       "      <td>The Godfather: Part II (1974)</td>\n",
       "      <td>1974</td>\n",
       "      <td>9.0</td>\n",
       "      <td>457100</td>\n",
       "      <td>0000000124</td>\n",
       "    </tr>\n",
       "  </tbody>\n",
       "</table>\n",
       "</div>"
      ],
      "text/plain": [
       "                                           title  year  rank   votes  \\\n",
       "movieid                                                                \n",
       "2477653          The Shawshank Redemption (1994)  1994   9.3  998823   \n",
       "2437277                     The Godfather (1972)  1972   9.2  706695   \n",
       "2024833  Il buono, il brutto, il cattivo. (1966)  1966   9.0  301575   \n",
       "2280997                      Pulp Fiction (1994)  1994   9.0  775943   \n",
       "2437299            The Godfather: Part II (1974)  1974   9.0  457100   \n",
       "\n",
       "        distribution  \n",
       "movieid               \n",
       "2477653   0000000125  \n",
       "2437277   0000000125  \n",
       "2024833   0000000124  \n",
       "2280997   0000000124  \n",
       "2437299   0000000124  "
      ]
     },
     "execution_count": 119,
     "metadata": {},
     "output_type": "execute_result"
    }
   ],
   "source": [
    "# 5 top movies ordered by rank\n",
    "join_movies_ratings.sort_values(by=[\"rank\"], ascending=False).head(5)"
   ]
  },
  {
   "cell_type": "code",
   "execution_count": 120,
   "metadata": {},
   "outputs": [
    {
     "data": {
      "text/html": [
       "<div>\n",
       "<style scoped>\n",
       "    .dataframe tbody tr th:only-of-type {\n",
       "        vertical-align: middle;\n",
       "    }\n",
       "\n",
       "    .dataframe tbody tr th {\n",
       "        vertical-align: top;\n",
       "    }\n",
       "\n",
       "    .dataframe thead th {\n",
       "        text-align: right;\n",
       "    }\n",
       "</style>\n",
       "<table border=\"1\" class=\"dataframe\">\n",
       "  <thead>\n",
       "    <tr style=\"text-align: right;\">\n",
       "      <th></th>\n",
       "      <th>title</th>\n",
       "      <th>year</th>\n",
       "      <th>rank</th>\n",
       "      <th>votes</th>\n",
       "      <th>distribution</th>\n",
       "    </tr>\n",
       "    <tr>\n",
       "      <th>movieid</th>\n",
       "      <th></th>\n",
       "      <th></th>\n",
       "      <th></th>\n",
       "      <th></th>\n",
       "      <th></th>\n",
       "    </tr>\n",
       "  </thead>\n",
       "  <tbody>\n",
       "    <tr>\n",
       "      <td>2477653</td>\n",
       "      <td>The Shawshank Redemption (1994)</td>\n",
       "      <td>1994</td>\n",
       "      <td>9.3</td>\n",
       "      <td>998823</td>\n",
       "      <td>0000000125</td>\n",
       "    </tr>\n",
       "    <tr>\n",
       "      <td>2280997</td>\n",
       "      <td>Pulp Fiction (1994)</td>\n",
       "      <td>1994</td>\n",
       "      <td>9.0</td>\n",
       "      <td>775943</td>\n",
       "      <td>0000000124</td>\n",
       "    </tr>\n",
       "    <tr>\n",
       "      <td>1936800</td>\n",
       "      <td>Fight Club (1999)</td>\n",
       "      <td>1999</td>\n",
       "      <td>8.9</td>\n",
       "      <td>759494</td>\n",
       "      <td>0000000124</td>\n",
       "    </tr>\n",
       "    <tr>\n",
       "      <td>2457464</td>\n",
       "      <td>The Matrix (1999)</td>\n",
       "      <td>1999</td>\n",
       "      <td>8.7</td>\n",
       "      <td>719107</td>\n",
       "      <td>0000000123</td>\n",
       "    </tr>\n",
       "    <tr>\n",
       "      <td>2437277</td>\n",
       "      <td>The Godfather (1972)</td>\n",
       "      <td>1972</td>\n",
       "      <td>9.2</td>\n",
       "      <td>706695</td>\n",
       "      <td>0000000125</td>\n",
       "    </tr>\n",
       "  </tbody>\n",
       "</table>\n",
       "</div>"
      ],
      "text/plain": [
       "                                   title  year  rank   votes distribution\n",
       "movieid                                                                  \n",
       "2477653  The Shawshank Redemption (1994)  1994   9.3  998823   0000000125\n",
       "2280997              Pulp Fiction (1994)  1994   9.0  775943   0000000124\n",
       "1936800                Fight Club (1999)  1999   8.9  759494   0000000124\n",
       "2457464                The Matrix (1999)  1999   8.7  719107   0000000123\n",
       "2437277             The Godfather (1972)  1972   9.2  706695   0000000125"
      ]
     },
     "execution_count": 120,
     "metadata": {},
     "output_type": "execute_result"
    }
   ],
   "source": [
    "# 5 top movies ordered by votes\n",
    "join_movies_ratings.sort_values(by=[\"votes\"], ascending=False).head(5)"
   ]
  },
  {
   "cell_type": "markdown",
   "metadata": {},
   "source": [
    "## TOP 20 ACTION MOVIES "
   ]
  },
  {
   "cell_type": "code",
   "execution_count": 121,
   "metadata": {},
   "outputs": [],
   "source": [
    "# Importing movies - directors \n",
    "\n",
    "movies_directors=pd.read_csv(\"movies2directors.csv\", index_col=\"movieid\")"
   ]
  },
  {
   "cell_type": "code",
   "execution_count": 122,
   "metadata": {},
   "outputs": [
    {
     "data": {
      "text/html": [
       "<div>\n",
       "<style scoped>\n",
       "    .dataframe tbody tr th:only-of-type {\n",
       "        vertical-align: middle;\n",
       "    }\n",
       "\n",
       "    .dataframe tbody tr th {\n",
       "        vertical-align: top;\n",
       "    }\n",
       "\n",
       "    .dataframe thead th {\n",
       "        text-align: right;\n",
       "    }\n",
       "</style>\n",
       "<table border=\"1\" class=\"dataframe\">\n",
       "  <thead>\n",
       "    <tr style=\"text-align: right;\">\n",
       "      <th></th>\n",
       "      <th>directorid</th>\n",
       "      <th>genre</th>\n",
       "    </tr>\n",
       "    <tr>\n",
       "      <th>movieid</th>\n",
       "      <th></th>\n",
       "      <th></th>\n",
       "    </tr>\n",
       "  </thead>\n",
       "  <tbody>\n",
       "    <tr>\n",
       "      <td>1672052</td>\n",
       "      <td>22397</td>\n",
       "      <td>Drama</td>\n",
       "    </tr>\n",
       "    <tr>\n",
       "      <td>1672111</td>\n",
       "      <td>54934</td>\n",
       "      <td>Action</td>\n",
       "    </tr>\n",
       "    <tr>\n",
       "      <td>1672580</td>\n",
       "      <td>297253</td>\n",
       "      <td>Comedy</td>\n",
       "    </tr>\n",
       "    <tr>\n",
       "      <td>1672716</td>\n",
       "      <td>188926</td>\n",
       "      <td>Drama</td>\n",
       "    </tr>\n",
       "    <tr>\n",
       "      <td>1672946</td>\n",
       "      <td>188940</td>\n",
       "      <td>Action</td>\n",
       "    </tr>\n",
       "    <tr>\n",
       "      <td>...</td>\n",
       "      <td>...</td>\n",
       "      <td>...</td>\n",
       "    </tr>\n",
       "    <tr>\n",
       "      <td>2591814</td>\n",
       "      <td>57348</td>\n",
       "      <td>Sci-Fi</td>\n",
       "    </tr>\n",
       "    <tr>\n",
       "      <td>2592334</td>\n",
       "      <td>151963</td>\n",
       "      <td>Adventure</td>\n",
       "    </tr>\n",
       "    <tr>\n",
       "      <td>2592963</td>\n",
       "      <td>50126</td>\n",
       "      <td>Comedy</td>\n",
       "    </tr>\n",
       "    <tr>\n",
       "      <td>2593112</td>\n",
       "      <td>90204</td>\n",
       "      <td>Comedy</td>\n",
       "    </tr>\n",
       "    <tr>\n",
       "      <td>2593313</td>\n",
       "      <td>5442</td>\n",
       "      <td>Comedy</td>\n",
       "    </tr>\n",
       "  </tbody>\n",
       "</table>\n",
       "<p>4141 rows × 2 columns</p>\n",
       "</div>"
      ],
      "text/plain": [
       "         directorid      genre\n",
       "movieid                       \n",
       "1672052       22397      Drama\n",
       "1672111       54934     Action\n",
       "1672580      297253     Comedy\n",
       "1672716      188926      Drama\n",
       "1672946      188940     Action\n",
       "...             ...        ...\n",
       "2591814       57348     Sci-Fi\n",
       "2592334      151963  Adventure\n",
       "2592963       50126     Comedy\n",
       "2593112       90204     Comedy\n",
       "2593313        5442     Comedy\n",
       "\n",
       "[4141 rows x 2 columns]"
      ]
     },
     "execution_count": 122,
     "metadata": {},
     "output_type": "execute_result"
    }
   ],
   "source": [
    "movies_directors"
   ]
  },
  {
   "cell_type": "code",
   "execution_count": 125,
   "metadata": {},
   "outputs": [],
   "source": [
    "#inner join between JOIN MOVIES RATINGS and MOVIES DIRECTORS taking movieid as key\n",
    "join_movies_ratings_directors = pd.merge(join_movies_ratings, movies_directors, on = \"movieid\")"
   ]
  },
  {
   "cell_type": "code",
   "execution_count": 126,
   "metadata": {},
   "outputs": [
    {
     "data": {
      "text/html": [
       "<div>\n",
       "<style scoped>\n",
       "    .dataframe tbody tr th:only-of-type {\n",
       "        vertical-align: middle;\n",
       "    }\n",
       "\n",
       "    .dataframe tbody tr th {\n",
       "        vertical-align: top;\n",
       "    }\n",
       "\n",
       "    .dataframe thead th {\n",
       "        text-align: right;\n",
       "    }\n",
       "</style>\n",
       "<table border=\"1\" class=\"dataframe\">\n",
       "  <thead>\n",
       "    <tr style=\"text-align: right;\">\n",
       "      <th></th>\n",
       "      <th>title</th>\n",
       "      <th>year</th>\n",
       "      <th>rank</th>\n",
       "      <th>votes</th>\n",
       "      <th>distribution</th>\n",
       "      <th>directorid</th>\n",
       "      <th>genre</th>\n",
       "    </tr>\n",
       "    <tr>\n",
       "      <th>movieid</th>\n",
       "      <th></th>\n",
       "      <th></th>\n",
       "      <th></th>\n",
       "      <th></th>\n",
       "      <th></th>\n",
       "      <th></th>\n",
       "      <th></th>\n",
       "    </tr>\n",
       "  </thead>\n",
       "  <tbody>\n",
       "    <tr>\n",
       "      <td>1672052</td>\n",
       "      <td>'Breaker' Morant (1980)</td>\n",
       "      <td>1980</td>\n",
       "      <td>7.8</td>\n",
       "      <td>8111</td>\n",
       "      <td>0000001222</td>\n",
       "      <td>22397</td>\n",
       "      <td>Drama</td>\n",
       "    </tr>\n",
       "    <tr>\n",
       "      <td>1672111</td>\n",
       "      <td>'Crocodile' Dundee II (1988)</td>\n",
       "      <td>1988</td>\n",
       "      <td>5.3</td>\n",
       "      <td>32183</td>\n",
       "      <td>0001221000</td>\n",
       "      <td>54934</td>\n",
       "      <td>Action</td>\n",
       "    </tr>\n",
       "    <tr>\n",
       "      <td>1672580</td>\n",
       "      <td>'Til There Was You (1997)</td>\n",
       "      <td>1997</td>\n",
       "      <td>4.4</td>\n",
       "      <td>1894</td>\n",
       "      <td>0011110000</td>\n",
       "      <td>297253</td>\n",
       "      <td>Comedy</td>\n",
       "    </tr>\n",
       "    <tr>\n",
       "      <td>1672716</td>\n",
       "      <td>'night, Mother (1986)</td>\n",
       "      <td>1986</td>\n",
       "      <td>7.0</td>\n",
       "      <td>1255</td>\n",
       "      <td>0000001212</td>\n",
       "      <td>188926</td>\n",
       "      <td>Drama</td>\n",
       "    </tr>\n",
       "    <tr>\n",
       "      <td>1673647</td>\n",
       "      <td>1-2-3-4 ou Les collants noirs (1961)</td>\n",
       "      <td>1961</td>\n",
       "      <td>6.5</td>\n",
       "      <td>128</td>\n",
       "      <td>0000111211</td>\n",
       "      <td>302682</td>\n",
       "      <td>Drama</td>\n",
       "    </tr>\n",
       "    <tr>\n",
       "      <td>...</td>\n",
       "      <td>...</td>\n",
       "      <td>...</td>\n",
       "      <td>...</td>\n",
       "      <td>...</td>\n",
       "      <td>...</td>\n",
       "      <td>...</td>\n",
       "      <td>...</td>\n",
       "    </tr>\n",
       "    <tr>\n",
       "      <td>2591814</td>\n",
       "      <td>eXistenZ (1999)</td>\n",
       "      <td>1999</td>\n",
       "      <td>6.8</td>\n",
       "      <td>56563</td>\n",
       "      <td>0000012210</td>\n",
       "      <td>57348</td>\n",
       "      <td>Sci-Fi</td>\n",
       "    </tr>\n",
       "    <tr>\n",
       "      <td>2592334</td>\n",
       "      <td>¡Three Amigos! (1986)</td>\n",
       "      <td>1986</td>\n",
       "      <td>6.2</td>\n",
       "      <td>36951</td>\n",
       "      <td>0000122100</td>\n",
       "      <td>151963</td>\n",
       "      <td>Adventure</td>\n",
       "    </tr>\n",
       "    <tr>\n",
       "      <td>2592963</td>\n",
       "      <td>À nous la liberté (1931)</td>\n",
       "      <td>1931</td>\n",
       "      <td>7.6</td>\n",
       "      <td>2294</td>\n",
       "      <td>0000002311</td>\n",
       "      <td>50126</td>\n",
       "      <td>Comedy</td>\n",
       "    </tr>\n",
       "    <tr>\n",
       "      <td>2593112</td>\n",
       "      <td>Á köldum klaka (1995)</td>\n",
       "      <td>1995</td>\n",
       "      <td>6.9</td>\n",
       "      <td>1231</td>\n",
       "      <td>0000012211</td>\n",
       "      <td>90204</td>\n",
       "      <td>Comedy</td>\n",
       "    </tr>\n",
       "    <tr>\n",
       "      <td>2593313</td>\n",
       "      <td>Átame! (1990)</td>\n",
       "      <td>1990</td>\n",
       "      <td>6.9</td>\n",
       "      <td>12087</td>\n",
       "      <td>0000013210</td>\n",
       "      <td>5442</td>\n",
       "      <td>Comedy</td>\n",
       "    </tr>\n",
       "  </tbody>\n",
       "</table>\n",
       "<p>4092 rows × 7 columns</p>\n",
       "</div>"
      ],
      "text/plain": [
       "                                        title  year  rank  votes distribution  \\\n",
       "movieid                                                                         \n",
       "1672052               'Breaker' Morant (1980)  1980   7.8   8111   0000001222   \n",
       "1672111          'Crocodile' Dundee II (1988)  1988   5.3  32183   0001221000   \n",
       "1672580             'Til There Was You (1997)  1997   4.4   1894   0011110000   \n",
       "1672716                 'night, Mother (1986)  1986   7.0   1255   0000001212   \n",
       "1673647  1-2-3-4 ou Les collants noirs (1961)  1961   6.5    128   0000111211   \n",
       "...                                       ...   ...   ...    ...          ...   \n",
       "2591814                       eXistenZ (1999)  1999   6.8  56563   0000012210   \n",
       "2592334                 ¡Three Amigos! (1986)  1986   6.2  36951   0000122100   \n",
       "2592963              À nous la liberté (1931)  1931   7.6   2294   0000002311   \n",
       "2593112                 Á köldum klaka (1995)  1995   6.9   1231   0000012211   \n",
       "2593313                         Átame! (1990)  1990   6.9  12087   0000013210   \n",
       "\n",
       "         directorid      genre  \n",
       "movieid                         \n",
       "1672052       22397      Drama  \n",
       "1672111       54934     Action  \n",
       "1672580      297253     Comedy  \n",
       "1672716      188926      Drama  \n",
       "1673647      302682      Drama  \n",
       "...             ...        ...  \n",
       "2591814       57348     Sci-Fi  \n",
       "2592334      151963  Adventure  \n",
       "2592963       50126     Comedy  \n",
       "2593112       90204     Comedy  \n",
       "2593313        5442     Comedy  \n",
       "\n",
       "[4092 rows x 7 columns]"
      ]
     },
     "execution_count": 126,
     "metadata": {},
     "output_type": "execute_result"
    }
   ],
   "source": [
    "join_movies_ratings_directors"
   ]
  },
  {
   "cell_type": "code",
   "execution_count": null,
   "metadata": {},
   "outputs": [],
   "source": []
  }
 ],
 "metadata": {
  "kernelspec": {
   "display_name": "Python 3.7.4 64-bit ('base': conda)",
   "language": "python",
   "name": "python37464bitbasecondadfdcf86da6ec48549bd8ceff8e6df2ac"
  },
  "language_info": {
   "codemirror_mode": {
    "name": "ipython",
    "version": 3
   },
   "file_extension": ".py",
   "mimetype": "text/x-python",
   "name": "python",
   "nbconvert_exporter": "python",
   "pygments_lexer": "ipython3",
   "version": "3.7.4"
  }
 },
 "nbformat": 4,
 "nbformat_minor": 2
}
